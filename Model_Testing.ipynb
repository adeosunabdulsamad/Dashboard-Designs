{
  "nbformat": 4,
  "nbformat_minor": 0,
  "metadata": {
    "colab": {
      "provenance": [],
      "authorship_tag": "ABX9TyM0ehZ7BXlAfh65ZLAaUIf0",
      "include_colab_link": true
    },
    "kernelspec": {
      "name": "python3",
      "display_name": "Python 3"
    },
    "language_info": {
      "name": "python"
    }
  },
  "cells": [
    {
      "cell_type": "markdown",
      "metadata": {
        "id": "view-in-github",
        "colab_type": "text"
      },
      "source": [
        "<a href=\"https://colab.research.google.com/github/adeosunabdulsamad/Dashboard-Designs/blob/master/Model_Testing.ipynb\" target=\"_parent\"><img src=\"https://colab.research.google.com/assets/colab-badge.svg\" alt=\"Open In Colab\"/></a>"
      ]
    },
    {
      "cell_type": "markdown",
      "source": [
        "## Import TensorFlow\n"
      ],
      "metadata": {
        "id": "tqomg_RPadzU"
      }
    },
    {
      "cell_type": "code",
      "execution_count": 1,
      "metadata": {
        "id": "f7jA5vcpaUhM"
      },
      "outputs": [],
      "source": [
        "import tensorflow as tf"
      ]
    },
    {
      "cell_type": "markdown",
      "source": [
        "## iMPORT NUMPY\n",
        "\n",
        "Then Edit the tensor flow to only output error\n"
      ],
      "metadata": {
        "id": "4FQh_Qkva4er"
      }
    },
    {
      "cell_type": "code",
      "source": [
        "import numpy as np\n",
        "import logging\n",
        "logger = tf.get_logger()\n",
        "logger.setLevel(logging.ERROR)\n"
      ],
      "metadata": {
        "id": "Cu4lmqSFbEap"
      },
      "execution_count": 6,
      "outputs": []
    },
    {
      "cell_type": "markdown",
      "source": [
        "## Create your input array i.e Features\n",
        "## Also create output array i.e Labels\n",
        "These are are the variables we will use to train the machine learning model"
      ],
      "metadata": {
        "id": "V-p2agwBcFSZ"
      }
    },
    {
      "cell_type": "code",
      "source": [
        "mass = np.random.rand(10) * 100  # Mass in kg\n",
        "mass = np.around(mass, 2)\n",
        "velocity = np.random.rand(10) * 50  # Velocity in m/s\n",
        "velocity = np.around(velocity, 1)\n",
        "kinetic_energy = 0.5 * mass * velocity**2\n",
        "kinetic_energy = np.around(kinetic_energy, 3)\n",
        "combined_input = np.stack((mass, velocity), axis=1)\n",
        "print(mass)\n",
        "print(velocity)\n",
        "print(kinetic_energy)\n",
        "for i in range(10):\n",
        "  print(f\"A mass of {mass[i]}kg and {velocity[i]}m/s gives kinetic energy of {kinetic_energy[i]}joules\")"
      ],
      "metadata": {
        "colab": {
          "base_uri": "https://localhost:8080/"
        },
        "id": "qsWmYOcyccte",
        "outputId": "cd577255-ca9d-4bc3-9d99-14923dd0adec"
      },
      "execution_count": 41,
      "outputs": [
        {
          "output_type": "stream",
          "name": "stdout",
          "text": [
            "[12.87 47.3  61.34 69.51 68.95 99.87 40.78 35.43 56.49 48.38]\n",
            "[49.9 17.6 20.  18.3  7.5 39.7 35.7  9.5  6.  17.9]\n",
            "[16023.214  7325.824 12268.    11639.102  1939.219 78702.054 25986.851\n",
            "  1598.779  1016.82   7750.718]\n",
            "A mass of 12.87kg and 49.9m/s gives kinetic energy of 16023.214joules\n",
            "A mass of 47.3kg and 17.6m/s gives kinetic energy of 7325.824joules\n",
            "A mass of 61.34kg and 20.0m/s gives kinetic energy of 12268.0joules\n",
            "A mass of 69.51kg and 18.3m/s gives kinetic energy of 11639.102joules\n",
            "A mass of 68.95kg and 7.5m/s gives kinetic energy of 1939.219joules\n",
            "A mass of 99.87kg and 39.7m/s gives kinetic energy of 78702.054joules\n",
            "A mass of 40.78kg and 35.7m/s gives kinetic energy of 25986.851joules\n",
            "A mass of 35.43kg and 9.5m/s gives kinetic energy of 1598.779joules\n",
            "A mass of 56.49kg and 6.0m/s gives kinetic energy of 1016.82joules\n",
            "A mass of 48.38kg and 17.9m/s gives kinetic energy of 7750.718joules\n"
          ]
        }
      ]
    },
    {
      "cell_type": "markdown",
      "source": [
        "## Create two layers\n",
        "### A Dense Layer\n",
        "This layer formation connects all elements in the first layer to next layer until and so on until the output is achieved"
      ],
      "metadata": {
        "id": "4aZcnLv2gNJX"
      }
    },
    {
      "cell_type": "code",
      "source": [
        "L0=tf.keras.layers.Dense(units=16, activation='relu', input_shape=[2]) # Input layer with 2 features\n",
        "L1=tf.keras.layers.Dense(units=8, activation='relu') # Hidden layer\n",
        "L2=tf.keras.layers.Dense(units=1)  # Output layer"
      ],
      "metadata": {
        "id": "CIR8pGa6gqaY"
      },
      "execution_count": 66,
      "outputs": []
    },
    {
      "cell_type": "markdown",
      "source": [
        "## Create the Model\n",
        "### You arrange the layers"
      ],
      "metadata": {
        "id": "MoAUi_t6hKFq"
      }
    },
    {
      "cell_type": "code",
      "source": [
        "Model = tf.keras.Sequential([L0,L1,L2])"
      ],
      "metadata": {
        "id": "jzBHjA4Wh_vR"
      },
      "execution_count": 67,
      "outputs": []
    },
    {
      "cell_type": "markdown",
      "source": [
        "### Models must be compiled before being trained"
      ],
      "metadata": {
        "id": "VBHwxkdxiMTm"
      }
    },
    {
      "cell_type": "code",
      "source": [
        "Model.compile(\n",
        "    loss=\"mean_squared_error\",\n",
        "    optimizer=tf.keras.optimizers.Adam(0.01)\n",
        ")"
      ],
      "metadata": {
        "id": "IZRj_7SJiXdo"
      },
      "execution_count": 68,
      "outputs": []
    },
    {
      "cell_type": "markdown",
      "source": [
        "## Training of the Model\n",
        "You can train the model by running through all the known inputs and outputs until the machine learns the algorithm"
      ],
      "metadata": {
        "id": "c1RhdeffjkAo"
      }
    },
    {
      "cell_type": "code",
      "source": [
        "him = Model.fit(combined_input, kinetic_energy, epochs=200, verbose=1)\n",
        "print(\"jmm\")"
      ],
      "metadata": {
        "colab": {
          "base_uri": "https://localhost:8080/"
        },
        "id": "aT7iSgcbj0zi",
        "outputId": "49167525-457d-4e37-a9a8-9798070014e7"
      },
      "execution_count": 69,
      "outputs": [
        {
          "output_type": "stream",
          "name": "stdout",
          "text": [
            "Epoch 1/200\n",
            "1/1 [==============================] - 1s 640ms/step - loss: 753753472.0000\n",
            "Epoch 2/200\n",
            "1/1 [==============================] - 0s 8ms/step - loss: 753475200.0000\n",
            "Epoch 3/200\n",
            "1/1 [==============================] - 0s 8ms/step - loss: 753213760.0000\n",
            "Epoch 4/200\n",
            "1/1 [==============================] - 0s 8ms/step - loss: 752973376.0000\n",
            "Epoch 5/200\n",
            "1/1 [==============================] - 0s 11ms/step - loss: 752773824.0000\n",
            "Epoch 6/200\n",
            "1/1 [==============================] - 0s 10ms/step - loss: 752618048.0000\n",
            "Epoch 7/200\n",
            "1/1 [==============================] - 0s 11ms/step - loss: 752514176.0000\n",
            "Epoch 8/200\n",
            "1/1 [==============================] - 0s 9ms/step - loss: 752417152.0000\n",
            "Epoch 9/200\n",
            "1/1 [==============================] - 0s 9ms/step - loss: 752311616.0000\n",
            "Epoch 10/200\n",
            "1/1 [==============================] - 0s 10ms/step - loss: 752196096.0000\n",
            "Epoch 11/200\n",
            "1/1 [==============================] - 0s 11ms/step - loss: 752071552.0000\n",
            "Epoch 12/200\n",
            "1/1 [==============================] - 0s 8ms/step - loss: 751939968.0000\n",
            "Epoch 13/200\n",
            "1/1 [==============================] - 0s 9ms/step - loss: 751797376.0000\n",
            "Epoch 14/200\n",
            "1/1 [==============================] - 0s 8ms/step - loss: 751643648.0000\n",
            "Epoch 15/200\n",
            "1/1 [==============================] - 0s 9ms/step - loss: 751476608.0000\n",
            "Epoch 16/200\n",
            "1/1 [==============================] - 0s 8ms/step - loss: 751295296.0000\n",
            "Epoch 17/200\n",
            "1/1 [==============================] - 0s 10ms/step - loss: 751100096.0000\n",
            "Epoch 18/200\n",
            "1/1 [==============================] - 0s 9ms/step - loss: 750888512.0000\n",
            "Epoch 19/200\n",
            "1/1 [==============================] - 0s 10ms/step - loss: 750659328.0000\n",
            "Epoch 20/200\n",
            "1/1 [==============================] - 0s 11ms/step - loss: 750410688.0000\n",
            "Epoch 21/200\n",
            "1/1 [==============================] - 0s 8ms/step - loss: 750141568.0000\n",
            "Epoch 22/200\n",
            "1/1 [==============================] - 0s 8ms/step - loss: 749850944.0000\n",
            "Epoch 23/200\n",
            "1/1 [==============================] - 0s 10ms/step - loss: 749536064.0000\n",
            "Epoch 24/200\n",
            "1/1 [==============================] - 0s 10ms/step - loss: 749195328.0000\n",
            "Epoch 25/200\n",
            "1/1 [==============================] - 0s 11ms/step - loss: 748826944.0000\n",
            "Epoch 26/200\n",
            "1/1 [==============================] - 0s 9ms/step - loss: 748419968.0000\n",
            "Epoch 27/200\n",
            "1/1 [==============================] - 0s 8ms/step - loss: 747975104.0000\n",
            "Epoch 28/200\n",
            "1/1 [==============================] - 0s 8ms/step - loss: 747494016.0000\n",
            "Epoch 29/200\n",
            "1/1 [==============================] - 0s 8ms/step - loss: 746973056.0000\n",
            "Epoch 30/200\n",
            "1/1 [==============================] - 0s 10ms/step - loss: 746411136.0000\n",
            "Epoch 31/200\n",
            "1/1 [==============================] - 0s 8ms/step - loss: 745805312.0000\n",
            "Epoch 32/200\n",
            "1/1 [==============================] - 0s 8ms/step - loss: 745151936.0000\n",
            "Epoch 33/200\n",
            "1/1 [==============================] - 0s 11ms/step - loss: 744450368.0000\n",
            "Epoch 34/200\n",
            "1/1 [==============================] - 0s 11ms/step - loss: 743697664.0000\n",
            "Epoch 35/200\n",
            "1/1 [==============================] - 0s 11ms/step - loss: 742891136.0000\n",
            "Epoch 36/200\n",
            "1/1 [==============================] - 0s 11ms/step - loss: 742026624.0000\n",
            "Epoch 37/200\n",
            "1/1 [==============================] - 0s 12ms/step - loss: 741101760.0000\n",
            "Epoch 38/200\n",
            "1/1 [==============================] - 0s 13ms/step - loss: 740114048.0000\n",
            "Epoch 39/200\n",
            "1/1 [==============================] - 0s 11ms/step - loss: 739060480.0000\n",
            "Epoch 40/200\n",
            "1/1 [==============================] - 0s 11ms/step - loss: 737938368.0000\n",
            "Epoch 41/200\n",
            "1/1 [==============================] - 0s 12ms/step - loss: 736744768.0000\n",
            "Epoch 42/200\n",
            "1/1 [==============================] - 0s 16ms/step - loss: 735476352.0000\n",
            "Epoch 43/200\n",
            "1/1 [==============================] - 0s 12ms/step - loss: 734130304.0000\n",
            "Epoch 44/200\n",
            "1/1 [==============================] - 0s 13ms/step - loss: 732703168.0000\n",
            "Epoch 45/200\n",
            "1/1 [==============================] - 0s 13ms/step - loss: 731192064.0000\n",
            "Epoch 46/200\n",
            "1/1 [==============================] - 0s 11ms/step - loss: 729593728.0000\n",
            "Epoch 47/200\n",
            "1/1 [==============================] - 0s 11ms/step - loss: 727904640.0000\n",
            "Epoch 48/200\n",
            "1/1 [==============================] - 0s 11ms/step - loss: 726108800.0000\n",
            "Epoch 49/200\n",
            "1/1 [==============================] - 0s 11ms/step - loss: 724209280.0000\n",
            "Epoch 50/200\n",
            "1/1 [==============================] - 0s 10ms/step - loss: 722203328.0000\n",
            "Epoch 51/200\n",
            "1/1 [==============================] - 0s 10ms/step - loss: 720087360.0000\n",
            "Epoch 52/200\n",
            "1/1 [==============================] - 0s 10ms/step - loss: 717857280.0000\n",
            "Epoch 53/200\n",
            "1/1 [==============================] - 0s 11ms/step - loss: 715510528.0000\n",
            "Epoch 54/200\n",
            "1/1 [==============================] - 0s 11ms/step - loss: 713044608.0000\n",
            "Epoch 55/200\n",
            "1/1 [==============================] - 0s 10ms/step - loss: 710456320.0000\n",
            "Epoch 56/200\n",
            "1/1 [==============================] - 0s 11ms/step - loss: 707741056.0000\n",
            "Epoch 57/200\n",
            "1/1 [==============================] - 0s 12ms/step - loss: 704892800.0000\n",
            "Epoch 58/200\n",
            "1/1 [==============================] - 0s 10ms/step - loss: 701912384.0000\n",
            "Epoch 59/200\n",
            "1/1 [==============================] - 0s 17ms/step - loss: 698796672.0000\n",
            "Epoch 60/200\n",
            "1/1 [==============================] - 0s 12ms/step - loss: 695542976.0000\n",
            "Epoch 61/200\n",
            "1/1 [==============================] - 0s 12ms/step - loss: 692148736.0000\n",
            "Epoch 62/200\n",
            "1/1 [==============================] - 0s 11ms/step - loss: 688611456.0000\n",
            "Epoch 63/200\n",
            "1/1 [==============================] - 0s 18ms/step - loss: 684928640.0000\n",
            "Epoch 64/200\n",
            "1/1 [==============================] - 0s 15ms/step - loss: 681098176.0000\n",
            "Epoch 65/200\n",
            "1/1 [==============================] - 0s 13ms/step - loss: 677118080.0000\n",
            "Epoch 66/200\n",
            "1/1 [==============================] - 0s 15ms/step - loss: 672986752.0000\n",
            "Epoch 67/200\n",
            "1/1 [==============================] - 0s 16ms/step - loss: 668702144.0000\n",
            "Epoch 68/200\n",
            "1/1 [==============================] - 0s 11ms/step - loss: 664263552.0000\n",
            "Epoch 69/200\n",
            "1/1 [==============================] - 0s 11ms/step - loss: 659669568.0000\n",
            "Epoch 70/200\n",
            "1/1 [==============================] - 0s 11ms/step - loss: 654919488.0000\n",
            "Epoch 71/200\n",
            "1/1 [==============================] - 0s 11ms/step - loss: 650012800.0000\n",
            "Epoch 72/200\n",
            "1/1 [==============================] - 0s 11ms/step - loss: 644949504.0000\n",
            "Epoch 73/200\n",
            "1/1 [==============================] - 0s 10ms/step - loss: 639729472.0000\n",
            "Epoch 74/200\n",
            "1/1 [==============================] - 0s 10ms/step - loss: 634353600.0000\n",
            "Epoch 75/200\n",
            "1/1 [==============================] - 0s 10ms/step - loss: 628822400.0000\n",
            "Epoch 76/200\n",
            "1/1 [==============================] - 0s 11ms/step - loss: 623137344.0000\n",
            "Epoch 77/200\n",
            "1/1 [==============================] - 0s 15ms/step - loss: 617300032.0000\n",
            "Epoch 78/200\n",
            "1/1 [==============================] - 0s 12ms/step - loss: 611312448.0000\n",
            "Epoch 79/200\n",
            "1/1 [==============================] - 0s 11ms/step - loss: 605177024.0000\n",
            "Epoch 80/200\n",
            "1/1 [==============================] - 0s 13ms/step - loss: 598896960.0000\n",
            "Epoch 81/200\n",
            "1/1 [==============================] - 0s 11ms/step - loss: 592475520.0000\n",
            "Epoch 82/200\n",
            "1/1 [==============================] - 0s 13ms/step - loss: 585916608.0000\n",
            "Epoch 83/200\n",
            "1/1 [==============================] - 0s 12ms/step - loss: 579224448.0000\n",
            "Epoch 84/200\n",
            "1/1 [==============================] - 0s 10ms/step - loss: 572404224.0000\n",
            "Epoch 85/200\n",
            "1/1 [==============================] - 0s 11ms/step - loss: 565461120.0000\n",
            "Epoch 86/200\n",
            "1/1 [==============================] - 0s 11ms/step - loss: 558400960.0000\n",
            "Epoch 87/200\n",
            "1/1 [==============================] - 0s 12ms/step - loss: 551230528.0000\n",
            "Epoch 88/200\n",
            "1/1 [==============================] - 0s 11ms/step - loss: 543956608.0000\n",
            "Epoch 89/200\n",
            "1/1 [==============================] - 0s 11ms/step - loss: 536586848.0000\n",
            "Epoch 90/200\n",
            "1/1 [==============================] - 0s 12ms/step - loss: 529129472.0000\n",
            "Epoch 91/200\n",
            "1/1 [==============================] - 0s 13ms/step - loss: 521592896.0000\n",
            "Epoch 92/200\n",
            "1/1 [==============================] - 0s 11ms/step - loss: 513986656.0000\n",
            "Epoch 93/200\n",
            "1/1 [==============================] - 0s 11ms/step - loss: 506320320.0000\n",
            "Epoch 94/200\n",
            "1/1 [==============================] - 0s 10ms/step - loss: 498604384.0000\n",
            "Epoch 95/200\n",
            "1/1 [==============================] - 0s 11ms/step - loss: 490849792.0000\n",
            "Epoch 96/200\n",
            "1/1 [==============================] - 0s 9ms/step - loss: 483067808.0000\n",
            "Epoch 97/200\n",
            "1/1 [==============================] - 0s 8ms/step - loss: 475270400.0000\n",
            "Epoch 98/200\n",
            "1/1 [==============================] - 0s 8ms/step - loss: 467469984.0000\n",
            "Epoch 99/200\n",
            "1/1 [==============================] - 0s 8ms/step - loss: 459679552.0000\n",
            "Epoch 100/200\n",
            "1/1 [==============================] - 0s 9ms/step - loss: 451912288.0000\n",
            "Epoch 101/200\n",
            "1/1 [==============================] - 0s 9ms/step - loss: 444181952.0000\n",
            "Epoch 102/200\n",
            "1/1 [==============================] - 0s 8ms/step - loss: 436502688.0000\n",
            "Epoch 103/200\n",
            "1/1 [==============================] - 0s 8ms/step - loss: 428888576.0000\n",
            "Epoch 104/200\n",
            "1/1 [==============================] - 0s 8ms/step - loss: 421354560.0000\n",
            "Epoch 105/200\n",
            "1/1 [==============================] - 0s 8ms/step - loss: 413915200.0000\n",
            "Epoch 106/200\n",
            "1/1 [==============================] - 0s 8ms/step - loss: 406585472.0000\n",
            "Epoch 107/200\n",
            "1/1 [==============================] - 0s 8ms/step - loss: 399380288.0000\n",
            "Epoch 108/200\n",
            "1/1 [==============================] - 0s 8ms/step - loss: 392314560.0000\n",
            "Epoch 109/200\n",
            "1/1 [==============================] - 0s 8ms/step - loss: 385403232.0000\n",
            "Epoch 110/200\n",
            "1/1 [==============================] - 0s 8ms/step - loss: 378660640.0000\n",
            "Epoch 111/200\n",
            "1/1 [==============================] - 0s 8ms/step - loss: 372100896.0000\n",
            "Epoch 112/200\n",
            "1/1 [==============================] - 0s 8ms/step - loss: 365737920.0000\n",
            "Epoch 113/200\n",
            "1/1 [==============================] - 0s 8ms/step - loss: 359584864.0000\n",
            "Epoch 114/200\n",
            "1/1 [==============================] - 0s 8ms/step - loss: 353654176.0000\n",
            "Epoch 115/200\n",
            "1/1 [==============================] - 0s 8ms/step - loss: 347957440.0000\n",
            "Epoch 116/200\n",
            "1/1 [==============================] - 0s 8ms/step - loss: 342505536.0000\n",
            "Epoch 117/200\n",
            "1/1 [==============================] - 0s 8ms/step - loss: 337307936.0000\n",
            "Epoch 118/200\n",
            "1/1 [==============================] - 0s 8ms/step - loss: 332373088.0000\n",
            "Epoch 119/200\n",
            "1/1 [==============================] - 0s 8ms/step - loss: 327708000.0000\n",
            "Epoch 120/200\n",
            "1/1 [==============================] - 0s 9ms/step - loss: 323318336.0000\n",
            "Epoch 121/200\n",
            "1/1 [==============================] - 0s 8ms/step - loss: 319208032.0000\n",
            "Epoch 122/200\n",
            "1/1 [==============================] - 0s 9ms/step - loss: 315379392.0000\n",
            "Epoch 123/200\n",
            "1/1 [==============================] - 0s 7ms/step - loss: 311833024.0000\n",
            "Epoch 124/200\n",
            "1/1 [==============================] - 0s 6ms/step - loss: 308567680.0000\n",
            "Epoch 125/200\n",
            "1/1 [==============================] - 0s 6ms/step - loss: 305580096.0000\n",
            "Epoch 126/200\n",
            "1/1 [==============================] - 0s 6ms/step - loss: 302865312.0000\n",
            "Epoch 127/200\n",
            "1/1 [==============================] - 0s 10ms/step - loss: 300416288.0000\n",
            "Epoch 128/200\n",
            "1/1 [==============================] - 0s 6ms/step - loss: 298224352.0000\n",
            "Epoch 129/200\n",
            "1/1 [==============================] - 0s 11ms/step - loss: 296279040.0000\n",
            "Epoch 130/200\n",
            "1/1 [==============================] - 0s 14ms/step - loss: 294568160.0000\n",
            "Epoch 131/200\n",
            "1/1 [==============================] - 0s 12ms/step - loss: 293078208.0000\n",
            "Epoch 132/200\n",
            "1/1 [==============================] - 0s 7ms/step - loss: 291794176.0000\n",
            "Epoch 133/200\n",
            "1/1 [==============================] - 0s 8ms/step - loss: 290700384.0000\n",
            "Epoch 134/200\n",
            "1/1 [==============================] - 0s 14ms/step - loss: 289780032.0000\n",
            "Epoch 135/200\n",
            "1/1 [==============================] - 0s 6ms/step - loss: 289015904.0000\n",
            "Epoch 136/200\n",
            "1/1 [==============================] - 0s 11ms/step - loss: 288390528.0000\n",
            "Epoch 137/200\n",
            "1/1 [==============================] - 0s 6ms/step - loss: 287886400.0000\n",
            "Epoch 138/200\n",
            "1/1 [==============================] - 0s 6ms/step - loss: 287486528.0000\n",
            "Epoch 139/200\n",
            "1/1 [==============================] - 0s 10ms/step - loss: 287174208.0000\n",
            "Epoch 140/200\n",
            "1/1 [==============================] - 0s 6ms/step - loss: 286933824.0000\n",
            "Epoch 141/200\n",
            "1/1 [==============================] - 0s 6ms/step - loss: 286750720.0000\n",
            "Epoch 142/200\n",
            "1/1 [==============================] - 0s 7ms/step - loss: 286611328.0000\n",
            "Epoch 143/200\n",
            "1/1 [==============================] - 0s 7ms/step - loss: 286503616.0000\n",
            "Epoch 144/200\n",
            "1/1 [==============================] - 0s 9ms/step - loss: 286416992.0000\n",
            "Epoch 145/200\n",
            "1/1 [==============================] - 0s 7ms/step - loss: 286342208.0000\n",
            "Epoch 146/200\n",
            "1/1 [==============================] - 0s 10ms/step - loss: 286271584.0000\n",
            "Epoch 147/200\n",
            "1/1 [==============================] - 0s 9ms/step - loss: 286199040.0000\n",
            "Epoch 148/200\n",
            "1/1 [==============================] - 0s 11ms/step - loss: 286119584.0000\n",
            "Epoch 149/200\n",
            "1/1 [==============================] - 0s 12ms/step - loss: 286029760.0000\n",
            "Epoch 150/200\n",
            "1/1 [==============================] - 0s 8ms/step - loss: 285927232.0000\n",
            "Epoch 151/200\n",
            "1/1 [==============================] - 0s 10ms/step - loss: 285810560.0000\n",
            "Epoch 152/200\n",
            "1/1 [==============================] - 0s 10ms/step - loss: 285679424.0000\n",
            "Epoch 153/200\n",
            "1/1 [==============================] - 0s 10ms/step - loss: 285534048.0000\n",
            "Epoch 154/200\n",
            "1/1 [==============================] - 0s 9ms/step - loss: 285375168.0000\n",
            "Epoch 155/200\n",
            "1/1 [==============================] - 0s 10ms/step - loss: 285204224.0000\n",
            "Epoch 156/200\n",
            "1/1 [==============================] - 0s 14ms/step - loss: 285022688.0000\n",
            "Epoch 157/200\n",
            "1/1 [==============================] - 0s 9ms/step - loss: 284832288.0000\n",
            "Epoch 158/200\n",
            "1/1 [==============================] - 0s 9ms/step - loss: 284634816.0000\n",
            "Epoch 159/200\n",
            "1/1 [==============================] - 0s 13ms/step - loss: 284432224.0000\n",
            "Epoch 160/200\n",
            "1/1 [==============================] - 0s 12ms/step - loss: 284226240.0000\n",
            "Epoch 161/200\n",
            "1/1 [==============================] - 0s 16ms/step - loss: 284018464.0000\n",
            "Epoch 162/200\n",
            "1/1 [==============================] - 0s 12ms/step - loss: 283810304.0000\n",
            "Epoch 163/200\n",
            "1/1 [==============================] - 0s 10ms/step - loss: 283603104.0000\n",
            "Epoch 164/200\n",
            "1/1 [==============================] - 0s 9ms/step - loss: 283397952.0000\n",
            "Epoch 165/200\n",
            "1/1 [==============================] - 0s 9ms/step - loss: 283195584.0000\n",
            "Epoch 166/200\n",
            "1/1 [==============================] - 0s 10ms/step - loss: 282996800.0000\n",
            "Epoch 167/200\n",
            "1/1 [==============================] - 0s 9ms/step - loss: 282801984.0000\n",
            "Epoch 168/200\n",
            "1/1 [==============================] - 0s 10ms/step - loss: 282611392.0000\n",
            "Epoch 169/200\n",
            "1/1 [==============================] - 0s 9ms/step - loss: 282425312.0000\n",
            "Epoch 170/200\n",
            "1/1 [==============================] - 0s 10ms/step - loss: 282243616.0000\n",
            "Epoch 171/200\n",
            "1/1 [==============================] - 0s 12ms/step - loss: 282066176.0000\n",
            "Epoch 172/200\n",
            "1/1 [==============================] - 0s 11ms/step - loss: 281892928.0000\n",
            "Epoch 173/200\n",
            "1/1 [==============================] - 0s 9ms/step - loss: 281723456.0000\n",
            "Epoch 174/200\n",
            "1/1 [==============================] - 0s 12ms/step - loss: 281557568.0000\n",
            "Epoch 175/200\n",
            "1/1 [==============================] - 0s 11ms/step - loss: 281394848.0000\n",
            "Epoch 176/200\n",
            "1/1 [==============================] - 0s 12ms/step - loss: 281234976.0000\n",
            "Epoch 177/200\n",
            "1/1 [==============================] - 0s 11ms/step - loss: 281077568.0000\n",
            "Epoch 178/200\n",
            "1/1 [==============================] - 0s 9ms/step - loss: 280922304.0000\n",
            "Epoch 179/200\n",
            "1/1 [==============================] - 0s 9ms/step - loss: 280768832.0000\n",
            "Epoch 180/200\n",
            "1/1 [==============================] - 0s 8ms/step - loss: 280616864.0000\n",
            "Epoch 181/200\n",
            "1/1 [==============================] - 0s 8ms/step - loss: 280466080.0000\n",
            "Epoch 182/200\n",
            "1/1 [==============================] - 0s 8ms/step - loss: 280316224.0000\n",
            "Epoch 183/200\n",
            "1/1 [==============================] - 0s 8ms/step - loss: 280167168.0000\n",
            "Epoch 184/200\n",
            "1/1 [==============================] - 0s 9ms/step - loss: 280018688.0000\n",
            "Epoch 185/200\n",
            "1/1 [==============================] - 0s 8ms/step - loss: 279870656.0000\n",
            "Epoch 186/200\n",
            "1/1 [==============================] - 0s 8ms/step - loss: 279722880.0000\n",
            "Epoch 187/200\n",
            "1/1 [==============================] - 0s 9ms/step - loss: 279575360.0000\n",
            "Epoch 188/200\n",
            "1/1 [==============================] - 0s 8ms/step - loss: 279428032.0000\n",
            "Epoch 189/200\n",
            "1/1 [==============================] - 0s 9ms/step - loss: 279280768.0000\n",
            "Epoch 190/200\n",
            "1/1 [==============================] - 0s 9ms/step - loss: 279133728.0000\n",
            "Epoch 191/200\n",
            "1/1 [==============================] - 0s 10ms/step - loss: 278986720.0000\n",
            "Epoch 192/200\n",
            "1/1 [==============================] - 0s 10ms/step - loss: 278839872.0000\n",
            "Epoch 193/200\n",
            "1/1 [==============================] - 0s 9ms/step - loss: 278693248.0000\n",
            "Epoch 194/200\n",
            "1/1 [==============================] - 0s 9ms/step - loss: 278546784.0000\n",
            "Epoch 195/200\n",
            "1/1 [==============================] - 0s 9ms/step - loss: 278400512.0000\n",
            "Epoch 196/200\n",
            "1/1 [==============================] - 0s 9ms/step - loss: 278254560.0000\n",
            "Epoch 197/200\n",
            "1/1 [==============================] - 0s 10ms/step - loss: 278108896.0000\n",
            "Epoch 198/200\n",
            "1/1 [==============================] - 0s 8ms/step - loss: 277963584.0000\n",
            "Epoch 199/200\n",
            "1/1 [==============================] - 0s 8ms/step - loss: 277818560.0000\n",
            "Epoch 200/200\n",
            "1/1 [==============================] - 0s 17ms/step - loss: 277674048.0000\n",
            "jmm\n"
          ]
        }
      ]
    },
    {
      "cell_type": "markdown",
      "source": [],
      "metadata": {
        "id": "Zhtv35YzufBT"
      }
    },
    {
      "cell_type": "code",
      "source": [
        "import matplotlib.pyplot as plt\n",
        "plt.xlabel('Epoch Number')\n",
        "plt.ylabel(\"Loss Magnitude\")\n",
        "plt.plot(him.history['loss'])"
      ],
      "metadata": {
        "colab": {
          "base_uri": "https://localhost:8080/",
          "height": 482
        },
        "id": "C_bYyV2lupEM",
        "outputId": "84483105-ac6d-4b6a-e668-0e574e216921"
      },
      "execution_count": 70,
      "outputs": [
        {
          "output_type": "execute_result",
          "data": {
            "text/plain": [
              "[<matplotlib.lines.Line2D at 0x7fd130f83e20>]"
            ]
          },
          "metadata": {},
          "execution_count": 70
        },
        {
          "output_type": "display_data",
          "data": {
            "text/plain": [
              "<Figure size 640x480 with 1 Axes>"
            ],
            "image/png": "[encoded data removed]"
          },
          "metadata": {}
        }
      ]
    },
    {
      "cell_type": "code",
      "source": [
        "print(Model.predict([[10, 5]]))"
      ],
      "metadata": {
        "colab": {
          "base_uri": "https://localhost:8080/"
        },
        "id": "bAiDsSPEu-It",
        "outputId": "869be32c-169f-4579-809f-982969101257"
      },
      "execution_count": 71,
      "outputs": [
        {
          "output_type": "stream",
          "name": "stdout",
          "text": [
            "1/1 [==============================] - 0s 88ms/step\n",
            "[[4196.861]]\n"
          ]
        }
      ]
    }
  ]
}